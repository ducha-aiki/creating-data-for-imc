{
 "cells": [
  {
   "cell_type": "code",
   "execution_count": null,
   "metadata": {},
   "outputs": [],
   "source": []
  },
  {
   "cell_type": "code",
   "execution_count": 8,
   "metadata": {},
   "outputs": [],
   "source": [
    "%matplotlib inline\n",
    "import matplotlib.pyplot as plt\n",
    "import sys\n",
    "import os\n",
    "sys.path.append('thirdparty/')\n",
    "import numpy as np\n",
    "from colmap.scripts.python.read_write_model import (read_model,\n",
    "                                                    qvec2rotmat,\n",
    "                                                    read_cameras_text,\n",
    "                                                    read_images_text,\n",
    "                                                    read_points3D_text)\n",
    "from colmap.scripts.python.read_dense import read_array\n",
    "from imageio import imread, imsave\n",
    "from os import makedirs\n",
    "from os.path import isdir, isfile\n",
    "from tqdm import tqdm\n",
    "from skimage.transform import resize as imresize\n",
    "import h5py\n",
    "from multiprocessing import Pool, cpu_count\n",
    "from argparse import ArgumentParser\n",
    "from IPython import embed\n",
    "from time import time, sleep\n",
    "from scipy.spatial import KDTree\n",
    "import OpenEXR as exr\n",
    "import Imath\n",
    "from copy import deepcopy\n",
    "\n",
    "def read_depth_image(fname):\n",
    "    exrfile = exr.InputFile(fname)\n",
    "    header = exrfile.header()\n",
    "    dw = header['dataWindow']\n",
    "    isize = (dw.max.y - dw.min.y + 1, dw.max.x - dw.min.x + 1)\n",
    "    channelData = dict()\n",
    "    # convert all channels in the image to numpy arrays\n",
    "    for c in header['channels']:\n",
    "        C = exrfile.channel(c, Imath.PixelType(Imath.PixelType.FLOAT))\n",
    "        C = np.fromstring(C, dtype=np.float32)\n",
    "        C = np.reshape(C, isize)\n",
    "        channelData[c] = C\n",
    "    d = deepcopy(channelData['Z'])\n",
    "    d[d>1e10] = 0\n",
    "    return d\n",
    "\n",
    "def read_colmap_txt(dir_name):\n",
    "    cameras = read_cameras_text(os.path.join(dir_name, 'cameras.txt'))\n",
    "    images = read_images_text(os.path.join(dir_name, 'images.txt'))\n",
    "    points = read_points3D_text(os.path.join(dir_name, 'points3D.txt'))\n",
    "    return  cameras, images, points\n",
    "    \n",
    "                                \n",
    "    \n",
    "\n",
    "def parse_image(args):\n",
    "    cur_camera, cur_image, points, src, n, th = args[0], args[1], args[2], args[3], args[4], args[5]\n",
    "\n",
    "    output = src + '/dense/stereo/depth_maps_clean_{:d}_th_{:.2f}'.format(n, th)\n",
    "    if not os.path.isdir(output):\n",
    "        os.makedirs(output)\n",
    "    fn = output + '/' + '.'.join(cur_image.name.split('.')[:-1])\n",
    "\n",
    "    if isfile(fn + '.h5') and isfile(fn + '.jpg'):\n",
    "        print(f'Current file: \"{cur_image.name}\". Done, skipping!')\n",
    "        return True\n",
    "    else:\n",
    "        print(f'Current file: \"{cur_image.name}\". Processing...')\n",
    "\n",
    "    image = imread(src + '/dense/images/' + cur_image.name)\n",
    "\n",
    "    # Some depth files do not exist?\n",
    "    in_fname=f'{src}/depth_masks/{cur_image.name}.depth.exr'\n",
    "    if isfile(in_fname):\n",
    "        try:\n",
    "            depth = read_depth_image(in_fname)\n",
    "        except:\n",
    "            return False\n",
    "    else:\n",
    "        return False\n",
    "\n",
    "    # min_depth, max_depth = np.percentile(depth, [5, 95])\n",
    "    # depth[depth < min_depth] = min_depth\n",
    "    # depth[depth > max_depth] = max_depth\n",
    "\n",
    "    # with regular spacing (n is the largest dim)\n",
    "    if depth.shape[0] > depth.shape[1]:\n",
    "        nx, ny = int(np.round(n * depth.shape[1] / depth.shape[0])), n\n",
    "    else:\n",
    "        nx, ny = n, int(np.round(n * depth.shape[0] / depth.shape[1]))\n",
    "    # print(f'Processing image \"{cur_image.name}\" (grid size: {nx}x{ny})')\n",
    "\n",
    "    q = cur_image.qvec\n",
    "    R = qvec2rotmat(q)\n",
    "    T = cur_image.tvec\n",
    "    p = cur_image.xys\n",
    "    pars = cur_camera.params\n",
    "    K = np.array([[pars[0], 0, pars[2]], [0, pars[1], pars[3]], [0, 0, 1]])\n",
    "    pids = cur_image.point3D_ids\n",
    "    v = pids >= 0\n",
    "    # print('Number of points: {}'.format((pids > -1).sum()))\n",
    "\n",
    "    # make a 3d grid\n",
    "    xg, yg = np.meshgrid(np.linspace(0, depth.shape[1] - 1, nx), np.linspace(0, depth.shape[0] - 1, ny))\n",
    "    xg, yg = np.round(xg).astype(int), np.round(yg).astype(int)\n",
    "    x_c = np.concatenate((xg.flatten()[..., None], yg.flatten()[..., None], np.ones((xg.size, 1))), axis=1)\n",
    "    d = depth[yg.flatten(), xg.flatten()]\n",
    "\n",
    "    # move the grid on top of the reconstruction\n",
    "    x_w = np.dot(np.linalg.inv(K), x_c.T)\n",
    "    x_w = x_w * d / x_w[2, :]\n",
    "    x_w = np.dot(R.T, x_w - T[..., None])\n",
    "\n",
    "    x, y, z = points[:, 0], points[:, 1], points[:, 2]\n",
    "    x2, y2, z2 = x_w[0, :], x_w[1, :], x_w[2, :]\n",
    "\n",
    "    # clean up the projected depth map\n",
    "    valid = []\n",
    "    min_d = np.zeros(nx * ny)\n",
    "    tree = KDTree(points)\n",
    "    min_dist = (tree.query(x_w.T, 1)[0]).reshape(-1)\n",
    "    valid_pts = min_dist < th\n",
    "    valid = np.flatnonzero(valid_pts)\n",
    "    #for i, p in enumerate(x_w.T):\n",
    "        # if i % 5000 == 0:\n",
    "        #     print(f'At {i+1}/{x_w.shape[1]}')\n",
    "        # d = np.linalg.norm(points - p, axis=1)\n",
    "        # min_d[i] = d.min()\n",
    "    #    min_d[i] = tree.query(p, 1)[0]\n",
    "    #    if min_d[i] < th:\n",
    "    #        valid.append(i)\n",
    "    #print (valid)\n",
    "    print(f'Valid points: {len(valid)}/{x_w.shape[1]}')\n",
    "\n",
    "    # Save the minimum distance to the model in case we want to recompute the depth maps\n",
    "    # (Thresholding is a bit iffy...)\n",
    "    min_d_resized = imresize(min_d.reshape((ny, nx)), depth.shape, order=0)\n",
    "\n",
    "    # Clean up depth map\n",
    "    d_clean = np.zeros(nx * ny)\n",
    "    d_clean[valid] = depth[yg.flatten()[valid], xg.flatten()[valid]]\n",
    "\n",
    "    # You still get d < 0 (due to points landing near the model by chance?)\n",
    "    d_clean[d_clean < 0] = 0\n",
    "\n",
    "    d_clean = d_clean.reshape((ny, nx))\n",
    "    d_resized = imresize(d_clean, depth.shape, order=0)\n",
    "\n",
    "    with h5py.File(fn + '.h5', 'w') as f:\n",
    "        f['depth'] = d_resized.astype(np.float16)\n",
    "        f['min_distance'] = min_d_resized.astype(np.float16)\n",
    "\n",
    "    # Draw always with full range\n",
    "    # gray = (d_resized - d_resized[d_resized > 0].min()) / (d_resized.max() - d_resized[d_resized > 0].min())\n",
    "    try:\n",
    "        gray = (d_resized.max() - d_resized) / (d_resized.max() - d_resized[d_resized > 0].min() + 1e-5)\n",
    "    except:\n",
    "        print (\"Warning, no gray\")\n",
    "        return False\n",
    "    rgb = gray[None, ...].repeat(3, axis=0)\n",
    "    rgb[0][d_resized == 0] = 1\n",
    "    rgb[1][d_resized == 0] = 0\n",
    "    rgb[2][d_resized == 0] = 0\n",
    "\n",
    "    # Sometimes the image is one pixel off??? Terrible\n",
    "    if image.shape[:2] != depth.shape:\n",
    "        image = np.round(imresize(image, depth.shape, order=1) * 255).astype(np.uint8)\n",
    "\n",
    "    imsave(fn + '.jpg', np.concatenate(\n",
    "        (image, np.round(255 * rgb.transpose((1, 2, 0))).astype(np.uint8)),\n",
    "        axis=1))\n",
    "\n",
    "    return True\n"
   ]
  },
  {
   "cell_type": "code",
   "execution_count": 2,
   "metadata": {},
   "outputs": [],
   "source": [
    "parser = ArgumentParser()\n",
    "parser.add_argument(\"--seq\", type=str)\n",
    "parser.add_argument(\"--n\", type=int, default=300)\n",
    "parser.add_argument(\"--th\", type=float, default=0.1)\n",
    "parser.add_argument(\"--poolsize\", type=int, default=8)\n",
    "params = parser.parse_args(args=[])\n",
    "\n",
    "root = '/home/old-ufo/datasets/tree/'\n",
    "# seq = 'florence_cathedral_side'\n",
    "\n",
    "#seqs = params.seq.split(',')\n",
    "seqs = ['tree_in_colmap']\n"
   ]
  },
  {
   "cell_type": "code",
   "execution_count": 3,
   "metadata": {},
   "outputs": [],
   "source": [
    "seq=seqs[0]\n",
    "n = 200\n",
    "th = 0.5"
   ]
  },
  {
   "cell_type": "code",
   "execution_count": 4,
   "metadata": {},
   "outputs": [
    {
     "name": "stdout",
     "output_type": "stream",
     "text": [
      "Processing: \"tree_in_colmap\"\n",
      "Cameras: 1049\n",
      "Images: 1049\n",
      "3D points: 962726\n"
     ]
    }
   ],
   "source": [
    "t = time()\n",
    "src = root + '/' + seq\n",
    "output = src + '/dense/stereo/depth_maps_clean_{:d}_th_{:.2f}'.format(n, th)\n",
    "if not isdir(output):\n",
    "    makedirs(output)\n",
    "\n",
    "# Parse reconstruction\n",
    "print(f'Processing: \"{seq}\"')\n",
    "cameras, images, points = read_colmap_txt(os.path.join(src,'reconstruction'))\n",
    "print(f'Cameras: {len(cameras)}')\n",
    "print(f'Images: {len(images)}')\n",
    "print(f'3D points: {len(points)}')\n",
    "indices = [i for i in cameras]\n",
    "\n",
    "# Get 3d points\n",
    "xyz, rgb = [], []\n",
    "for i in points:\n",
    "    xyz.append(points[i].xyz)\n",
    "    rgb.append(points[i].rgb)\n",
    "xyz = np.array(xyz)\n",
    "rgb = np.array(rgb)\n",
    "\n",
    "args = []\n",
    "for index in indices:\n",
    "    args.append((cameras[index], images[index], xyz, src, n, th))\n"
   ]
  },
  {
   "cell_type": "code",
   "execution_count": 43,
   "metadata": {},
   "outputs": [
    {
     "name": "stdout",
     "output_type": "stream",
     "text": [
      "Current file: \"IMG_9612.MOV_frame000001.png\". Done, skipping!\n",
      "(22600,)\n"
     ]
    },
    {
     "name": "stderr",
     "output_type": "stream",
     "text": [
      "/home/old-ufo/anaconda3/envs/fastai1/lib/python3.7/site-packages/ipykernel_launcher.py:37: DeprecationWarning: The binary mode of fromstring is deprecated, as it behaves surprisingly on unicode inputs. Use frombuffer instead\n"
     ]
    },
    {
     "name": "stdout",
     "output_type": "stream",
     "text": [
      "kd tree contruction time =  6.186729907989502\n",
      "[1.64289348 1.64289348 1.64289348 ... 1.64289348 1.64289348 1.64289348]\n",
      "[ 7083  7084  7085 ... 22364 22365 22366]\n",
      "Valid points: 5394/22600\n",
      "total time =  13.163594245910645\n"
     ]
    }
   ],
   "source": [
    "tttt1 = time()\n",
    "cur_camera, cur_image, points, src, n, th = args[0][0], args[0][1], args[0][2], args[0][3], args[0][4], args[0][5]\n",
    "output = src + '/dense/stereo/depth_maps_clean_{:d}_th_{:.2f}'.format(n, th)\n",
    "if not os.path.isdir(output):\n",
    "    os.makedirs(output)\n",
    "fn = output + '/' + '.'.join(cur_image.name.split('.')[:-1])\n",
    "\n",
    "if isfile(fn + '.h5') and isfile(fn + '.jpg'):\n",
    "    print(f'Current file: \"{cur_image.name}\". Done, skipping!')\n",
    "    #return True\n",
    "else:\n",
    "    print(f'Current file: \"{cur_image.name}\". Processing...')\n",
    "\n",
    "image = imread(src + '/dense/images/' + cur_image.name)\n",
    "\n",
    "# Some depth files do not exist?\n",
    "in_fname=f'{src}/depth_masks/{cur_image.name}.depth.exr'\n",
    "if isfile(in_fname):\n",
    "    try:\n",
    "        depth = read_depth_image(in_fname)\n",
    "    except:\n",
    "        print (\"Cannot read depth\")\n",
    "#        return False\n",
    "else:\n",
    "    print (\"No read depth\")\n",
    "#    return False\n",
    "\n",
    "# min_depth, max_depth = np.percentile(depth, [5, 95])\n",
    "# depth[depth < min_depth] = min_depth\n",
    "# depth[depth > max_depth] = max_depth\n",
    "\n",
    "# with regular spacing (n is the largest dim)\n",
    "if depth.shape[0] > depth.shape[1]:\n",
    "    nx, ny = int(np.round(n * depth.shape[1] / depth.shape[0])), n\n",
    "else:\n",
    "    nx, ny = n, int(np.round(n * depth.shape[0] / depth.shape[1]))\n",
    "# print(f'Processing image \"{cur_image.name}\" (grid size: {nx}x{ny})')\n",
    "\n",
    "q = cur_image.qvec\n",
    "R = qvec2rotmat(q)\n",
    "T = cur_image.tvec\n",
    "p = cur_image.xys\n",
    "pars = cur_camera.params\n",
    "K = np.array([[pars[0], 0, pars[1]], [0, pars[0], pars[2]], [0, 0, 1]])\n",
    "#pids = cur_image.point3D_ids\n",
    "#v = pids >= 0\n",
    "# print('Number of points: {}'.format((pids > -1).sum()))\n",
    "\n",
    "# make a 3d grid\n",
    "xg, yg = np.meshgrid(np.linspace(0, depth.shape[1] - 1, nx), np.linspace(0, depth.shape[0] - 1, ny))\n",
    "xg, yg = np.round(xg).astype(int), np.round(yg).astype(int)\n",
    "x_c = np.concatenate((xg.flatten()[..., None], yg.flatten()[..., None], np.ones((xg.size, 1))), axis=1)\n",
    "d = depth[yg.flatten(), xg.flatten()]\n",
    "\n",
    "print (d_valid_mask.shape)\n",
    "# move the grid on top of the reconstruction\n",
    "x_w = np.dot(np.linalg.inv(K), x_c.T)\n",
    "x_w = x_w * d / x_w[2, :]\n",
    "x_w = np.dot(R.T, x_w - T[..., None])\n",
    "#x_w = x_w[:,d_valid_mask]\n",
    "#x_w = np.dot(R.T, x_w + T[..., None])\n",
    "\n",
    "x, y, z = points[:, 0], points[:, 1], points[:, 2]\n",
    "x2, y2, z2 = x_w[0, :], x_w[1, :], x_w[2, :]\n",
    "\n",
    "# clean up the projected depth map\n",
    "valid = []\n",
    "min_d = np.zeros(nx * ny)\n",
    "tttt=time()\n",
    "tree = KDTree(points)\n",
    "print ('kd tree contruction time = ', time() -tttt)\n",
    "min_dist = (tree.query(x_w.T, 1, p=2)[0]).reshape(-1)\n",
    "print (min_dist)\n",
    "valid_pts = min_dist < th\n",
    "valid = np.flatnonzero(valid_pts)\n",
    "print (valid)\n",
    "#for i, p in enumerate(x_w.T):\n",
    "    # if i % 5000 == 0:\n",
    "    #     print(f'At {i+1}/{x_w.shape[1]}')\n",
    "    # d = np.linalg.norm(points - p, axis=1)\n",
    "    # min_d[i] = d.min()\n",
    "#    min_d[i] = tree.query(p, 1)[0]\n",
    "#    if min_d[i] < th:\n",
    "#        valid.append(i)\n",
    "#print (valid)\n",
    "print(f'Valid points: {len(valid)}/{x_w.shape[1]}')\n",
    "\n",
    "# Save the minimum distance to the model in case we want to recompute the depth maps\n",
    "# (Thresholding is a bit iffy...)\n",
    "min_d_resized = imresize(min_d.reshape((ny, nx)), depth.shape, order=0)\n",
    "\n",
    "# Clean up depth map\n",
    "d_clean = np.zeros(nx * ny)\n",
    "d_clean[valid] = depth[yg.flatten()[valid], xg.flatten()[valid]]\n",
    "\n",
    "# You still get d < 0 (due to points landing near the model by chance?)\n",
    "d_clean[d_clean < 0] = 0\n",
    "\n",
    "d_clean = d_clean.reshape((ny, nx))\n",
    "d_resized = imresize(d_clean, depth.shape, order=0)\n",
    "\n",
    "with h5py.File(fn + '.h5', 'w') as f:\n",
    "    f['depth'] = d_resized.astype(np.float16)\n",
    "    f['min_distance'] = min_d_resized.astype(np.float16)\n",
    "\n",
    "# Draw always with full range\n",
    "# gray = (d_resized - d_resized[d_resized > 0].min()) / (d_resized.max() - d_resized[d_resized > 0].min())\n",
    "try:\n",
    "    gray = (d_resized.max() - d_resized) / (d_resized.max() - d_resized[d_resized > 0].min() + 1e-5)\n",
    "except:\n",
    "    print (\"Warning, no gray\")\n",
    "    #return False\n",
    "rgb = gray[None, ...].repeat(3, axis=0)\n",
    "rgb[0][d_resized == 0] = 1\n",
    "rgb[1][d_resized == 0] = 0\n",
    "rgb[2][d_resized == 0] = 0\n",
    "\n",
    "# Sometimes the image is one pixel off??? Terrible\n",
    "if image.shape[:2] != depth.shape:\n",
    "    image = np.round(imresize(image, depth.shape, order=1) * 255).astype(np.uint8)\n",
    "\n",
    "imsave(fn + '.jpg', np.concatenate(\n",
    "    (image, np.round(255 * rgb.transpose((1, 2, 0))).astype(np.uint8)),\n",
    "    axis=1))\n",
    "print (\"total time = \", -tttt1 +time())"
   ]
  },
  {
   "cell_type": "code",
   "execution_count": null,
   "metadata": {},
   "outputs": [],
   "source": []
  },
  {
   "cell_type": "code",
   "execution_count": null,
   "metadata": {},
   "outputs": [],
   "source": []
  },
  {
   "cell_type": "code",
   "execution_count": null,
   "metadata": {},
   "outputs": [],
   "source": []
  },
  {
   "cell_type": "code",
   "execution_count": 121,
   "metadata": {},
   "outputs": [],
   "source": [
    "from copy import deepcopy\n",
    "x_w2 = deepcopy(x_w)[::-1,:]\n",
    "x_w2[0,:] = -x_w2[0,:]"
   ]
  },
  {
   "cell_type": "code",
   "execution_count": null,
   "metadata": {},
   "outputs": [],
   "source": []
  },
  {
   "cell_type": "code",
   "execution_count": 122,
   "metadata": {},
   "outputs": [],
   "source": [
    "min_dist3 = (tree.query(x_w2.T, 1)[0]).reshape(-1)\n"
   ]
  },
  {
   "cell_type": "code",
   "execution_count": 132,
   "metadata": {},
   "outputs": [
    {
     "data": {
      "text/plain": [
       "<matplotlib.image.AxesImage at 0x7f56b3211fd0>"
      ]
     },
     "execution_count": 132,
     "metadata": {},
     "output_type": "execute_result"
    },
    {
     "data": {
      "image/png": "[encoded data removed]",
      "text/plain": [
       "<Figure size 432x288 with 1 Axes>"
      ]
     },
     "metadata": {
      "needs_background": "light"
     },
     "output_type": "display_data"
    }
   ],
   "source": [
    "plt.imshow((x_w[2]).reshape(ny,nx))"
   ]
  },
  {
   "cell_type": "code",
   "execution_count": null,
   "metadata": {},
   "outputs": [],
   "source": []
  },
  {
   "cell_type": "code",
   "execution_count": null,
   "metadata": {},
   "outputs": [],
   "source": []
  },
  {
   "cell_type": "code",
   "execution_count": null,
   "metadata": {},
   "outputs": [],
   "source": []
  },
  {
   "cell_type": "code",
   "execution_count": null,
   "metadata": {},
   "outputs": [],
   "source": []
  },
  {
   "cell_type": "code",
   "execution_count": 86,
   "metadata": {},
   "outputs": [
    {
     "name": "stdout",
     "output_type": "stream",
     "text": [
      "{'channels': {'Z': FLOAT (1, 1)}, 'compression': ZIP_COMPRESSION, 'dataWindow': (0, 0) - (1919, 1087), 'displayWindow': (0, 0) - (1919, 1087), 'lineOrder': INCREASING_Y, 'pixelAspectRatio': 1.0, 'screenWindowCenter': (0.0, 0.0), 'screenWindowWidth': 1.0}\n"
     ]
    },
    {
     "data": {
      "text/plain": [
       "64.47806"
      ]
     },
     "execution_count": 86,
     "metadata": {},
     "output_type": "execute_result"
    },
    {
     "data": {
      "image/png": "[encoded data removed]",
      "text/plain": [
       "<Figure size 432x288 with 1 Axes>"
      ]
     },
     "metadata": {
      "needs_background": "light"
     },
     "output_type": "display_data"
    }
   ],
   "source": [
    "def read_depth_image2(fname):\n",
    "    exrfile = exr.InputFile(fname)\n",
    "    header = exrfile.header()\n",
    "    dw = header['dataWindow']\n",
    "    isize = (dw.max.y - dw.min.y + 1, dw.max.x - dw.min.x + 1)\n",
    "    print (header)\n",
    "    channelData = dict()\n",
    "    # convert all channels in the image to numpy arrays\n",
    "    for c in header['channels']:\n",
    "        C = exrfile.channel(c, Imath.PixelType(Imath.PixelType.FLOAT))\n",
    "        C = np.frombuffer(C, dtype=np.float32)\n",
    "        C = np.reshape(C, isize)\n",
    "        channelData[c] = C\n",
    "    d = deepcopy(channelData['Z'])\n",
    "    d[d>1e10] = 0\n",
    "    return d\n",
    "dept2 = read_depth_image2(in_fname)\n",
    "plt.imshow((dept2))\n",
    "dept2.max()"
   ]
  },
  {
   "cell_type": "code",
   "execution_count": 68,
   "metadata": {},
   "outputs": [
    {
     "data": {
      "text/plain": [
       "<matplotlib.image.AxesImage at 0x7f56ba464cd0>"
      ]
     },
     "execution_count": 68,
     "metadata": {},
     "output_type": "execute_result"
    },
    {
     "data": {
      "image/png": "[encoded data removed]",
      "text/plain": [
       "<Figure size 432x288 with 1 Axes>"
      ]
     },
     "metadata": {
      "needs_background": "light"
     },
     "output_type": "display_data"
    }
   ],
   "source": [
    "plt.imshow((min_dist).reshape(ny,nx))"
   ]
  },
  {
   "cell_type": "code",
   "execution_count": 41,
   "metadata": {},
   "outputs": [],
   "source": [
    "from mpl_toolkits.mplot3d import Axes3D"
   ]
  },
  {
   "cell_type": "code",
   "execution_count": 49,
   "metadata": {},
   "outputs": [],
   "source": [
    "import open3d as o3d"
   ]
  },
  {
   "cell_type": "code",
   "execution_count": 53,
   "metadata": {},
   "outputs": [],
   "source": [
    "pcl = o3d.geometry.PointCloud(points=o3d.cuda.pybind.utility.Vector3dVector(points))"
   ]
  },
  {
   "cell_type": "code",
   "execution_count": 54,
   "metadata": {},
   "outputs": [],
   "source": [
    "o3d.visualization.draw_geometries([pcl])"
   ]
  },
  {
   "cell_type": "code",
   "execution_count": null,
   "metadata": {},
   "outputs": [],
   "source": []
  }
 ],
 "metadata": {
  "kernelspec": {
   "display_name": "Python 3",
   "language": "python",
   "name": "python3"
  },
  "language_info": {
   "codemirror_mode": {
    "name": "ipython",
    "version": 3
   },
   "file_extension": ".py",
   "mimetype": "text/x-python",
   "name": "python",
   "nbconvert_exporter": "python",
   "pygments_lexer": "ipython3",
   "version": "3.7.4"
  },
  "latex_envs": {
   "LaTeX_envs_menu_present": true,
   "autoclose": false,
   "autocomplete": true,
   "bibliofile": "biblio.bib",
   "cite_by": "apalike",
   "current_citInitial": 1,
   "eqLabelWithNumbers": true,
   "eqNumInitial": 1,
   "hotkeys": {
    "equation": "Ctrl-E",
    "itemize": "Ctrl-I"
   },
   "labels_anchors": false,
   "latex_user_defs": false,
   "report_style_numbering": false,
   "user_envs_cfg": false
  }
 },
 "nbformat": 4,
 "nbformat_minor": 4
}
