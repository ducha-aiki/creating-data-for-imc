{
 "cells": [
  {
   "cell_type": "code",
   "execution_count": 1,
   "metadata": {},
   "outputs": [],
   "source": [
    "import kapture.io.csv as csv\n",
    "\n",
    "kapture_data = csv.kapture_from_dir('/home/old-ufo/datasets/tree/tree_in_kapture2/')"
   ]
  },
  {
   "cell_type": "code",
   "execution_count": 2,
   "metadata": {},
   "outputs": [],
   "source": [
    "import numpy as np"
   ]
  },
  {
   "cell_type": "code",
   "execution_count": 7,
   "metadata": {},
   "outputs": [
    {
     "data": {
      "text/plain": [
       "name: --    type: camera [RADIAL, 1920, 1088, 1650.473648750179, 960, 544, 0  , 0  ]"
      ]
     },
     "execution_count": 7,
     "metadata": {},
     "output_type": "execute_result"
    }
   ],
   "source": [
    "kapture_data.sensors['sensor0']"
   ]
  },
  {
   "cell_type": "code",
   "execution_count": 21,
   "metadata": {},
   "outputs": [
    {
     "name": "stdout",
     "output_type": "stream",
     "text": [
      "keypoints of \"IMG_9614.MOV_frame000100.png\" as numpy array of float32 and shape (2652, 2):\n",
      "[[ 772.   601.1]\n",
      " [1283.   949. ]\n",
      " [ 902.3  809. ]\n",
      " ...\n",
      " [ 933.7  411. ]\n",
      " [1045.3  127. ]\n",
      " [ 760.   246. ]]\n"
     ]
    }
   ],
   "source": [
    "from kapture.io.features import keypoints_to_filepaths, image_keypoints_from_file\n",
    "from kapture.io.records import images_to_filepaths\n",
    "from kapture.io.image import image_keypoints_to_image_file\n",
    "from PIL import Image\n",
    "from tqdm import tqdm\n",
    "\n",
    "image_name = 'IMG_9614.MOV_frame000100.png'\n",
    "kapture_dirpath='/home/old-ufo/datasets/tree/tree_in_kapture2/'\n",
    "# keypoints_filepaths[image_name] -> keypoints file full path\n",
    "keypoints_filepaths = keypoints_to_filepaths(kapture_data.keypoints, kapture_dirpath)\n",
    "# for image_name in kapture_data.keypoints:\n",
    "keypoints_filepath = keypoints_filepaths[image_name]\n",
    "keypoints_data = image_keypoints_from_file(filepath=keypoints_filepath,\n",
    "                                           dsize=kapture_data.keypoints.dsize,\n",
    "                                           dtype=kapture_data.keypoints.dtype)\n",
    "print(f'keypoints of \"{image_name}\" as numpy array of {keypoints_data.dtype} and shape {keypoints_data.shape}:')\n",
    "print(keypoints_data)"
   ]
  },
  {
   "cell_type": "code",
   "execution_count": 18,
   "metadata": {},
   "outputs": [],
   "source": [
    "fname = '/home/old-ufo/datasets/tree/tree_in_kapture2/reconstruction/keypoints/IMG_9620.MOV_frame000012.png.kpt'\n",
    "arr = np.fromfile(fname, dtype=np.float32)"
   ]
  },
  {
   "cell_type": "code",
   "execution_count": 20,
   "metadata": {},
   "outputs": [
    {
     "data": {
      "text/plain": [
       "array([1102.,  117., 1213., ...,  720., 1195.,  710.], dtype=float32)"
      ]
     },
     "execution_count": 20,
     "metadata": {},
     "output_type": "execute_result"
    }
   ],
   "source": [
    "arr"
   ]
  }
 ],
 "metadata": {
  "kernelspec": {
   "display_name": "Python 3",
   "language": "python",
   "name": "python3"
  },
  "language_info": {
   "codemirror_mode": {
    "name": "ipython",
    "version": 3
   },
   "file_extension": ".py",
   "mimetype": "text/x-python",
   "name": "python",
   "nbconvert_exporter": "python",
   "pygments_lexer": "ipython3",
   "version": "3.7.4"
  },
  "latex_envs": {
   "LaTeX_envs_menu_present": true,
   "autoclose": false,
   "autocomplete": true,
   "bibliofile": "biblio.bib",
   "cite_by": "apalike",
   "current_citInitial": 1,
   "eqLabelWithNumbers": true,
   "eqNumInitial": 1,
   "hotkeys": {
    "equation": "Ctrl-E",
    "itemize": "Ctrl-I"
   },
   "labels_anchors": false,
   "latex_user_defs": false,
   "report_style_numbering": false,
   "user_envs_cfg": false
  }
 },
 "nbformat": 4,
 "nbformat_minor": 4
}
